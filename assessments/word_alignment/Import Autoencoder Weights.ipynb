{
 "cells": [
  {
   "cell_type": "code",
   "execution_count": 26,
   "id": "fec687bb",
   "metadata": {},
   "outputs": [],
   "source": [
    "import torch\n",
    "from word_alignment_steps.embeddings_training.autoencoder import Autoencoder\n",
    "import numpy as np"
   ]
  },
  {
   "cell_type": "code",
   "execution_count": 9,
   "id": "3477f678",
   "metadata": {},
   "outputs": [],
   "source": [
    "model = Autoencoder(in_size=41899, out_size=50)"
   ]
  },
  {
   "cell_type": "code",
   "execution_count": 10,
   "id": "72fcdf7a",
   "metadata": {},
   "outputs": [
    {
     "data": {
      "text/plain": [
       "<All keys matched successfully>"
      ]
     },
     "execution_count": 10,
     "metadata": {},
     "output_type": "execute_result"
    }
   ],
   "source": [
    "model.load_state_dict(torch.load('/home/mark/Downloads/model_2_20230214-064750', map_location=torch.device('cpu')))"
   ]
  },
  {
   "cell_type": "code",
   "execution_count": 14,
   "id": "cd7244fa",
   "metadata": {},
   "outputs": [],
   "source": [
    "weights = [p.detach().numpy() for p in model.parameters()]"
   ]
  },
  {
   "cell_type": "code",
   "execution_count": 32,
   "id": "1881b0bd",
   "metadata": {},
   "outputs": [
    {
     "data": {
      "text/plain": [
       "(50, 41899)"
      ]
     },
     "execution_count": 32,
     "metadata": {},
     "output_type": "execute_result"
    }
   ],
   "source": [
    "weights[0].shape"
   ]
  },
  {
   "cell_type": "code",
   "execution_count": 33,
   "id": "0e2343e0",
   "metadata": {},
   "outputs": [],
   "source": [
    "np.savetxt('data/models/encoder_weights_whole_bible.txt', weights[0])"
   ]
  },
  {
   "cell_type": "code",
   "execution_count": 34,
   "id": "0b258fdd",
   "metadata": {},
   "outputs": [],
   "source": [
    "import os"
   ]
  },
  {
   "cell_type": "code",
   "execution_count": 36,
   "id": "eba0149e",
   "metadata": {},
   "outputs": [],
   "source": []
  },
  {
   "cell_type": "code",
   "execution_count": 40,
   "id": "74aa2d1f",
   "metadata": {},
   "outputs": [],
   "source": [
    "os.getenv('AQUA_URL')"
   ]
  }
 ],
 "metadata": {
  "kernelspec": {
   "display_name": "aqua-api",
   "language": "python",
   "name": "aqua-api"
  },
  "language_info": {
   "codemirror_mode": {
    "name": "ipython",
    "version": 3
   },
   "file_extension": ".py",
   "mimetype": "text/x-python",
   "name": "python",
   "nbconvert_exporter": "python",
   "pygments_lexer": "ipython3",
   "version": "3.10.6"
  }
 },
 "nbformat": 4,
 "nbformat_minor": 5
}
