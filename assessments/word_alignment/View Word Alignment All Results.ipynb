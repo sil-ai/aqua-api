{
 "cells": [
  {
   "cell_type": "markdown",
   "id": "c04b907b",
   "metadata": {},
   "source": [
    "This notebook allows you to run a word alignment assessment and view all the results in their entirety, to help with debugging."
   ]
  },
  {
   "cell_type": "code",
   "execution_count": null,
   "id": "434e32ac",
   "metadata": {},
   "outputs": [],
   "source": [
    "from pathlib import Path\n",
    "from typing import Optional, Literal\n",
    "\n",
    "import modal\n",
    "from pydantic import BaseModel\n",
    "import pandas as pd\n",
    "\n",
    "from IPython.display import display, HTML\n",
    "display(HTML(\"<style>.container { width:100% !important; }</style>\"))\n",
    "pd.set_option('display.max_rows', 500)\n",
    "# from app import Assessment"
   ]
  },
  {
   "cell_type": "code",
   "execution_count": null,
   "id": "7bcfaef7",
   "metadata": {},
   "outputs": [],
   "source": [
    "class Assessment(BaseModel):\n",
    "    assessment: Optional[int] = None\n",
    "    revision: int\n",
    "    reference: int\n",
    "    type: Literal[\"word-alignment\"]"
   ]
  },
  {
   "cell_type": "code",
   "execution_count": null,
   "id": "14342b2b",
   "metadata": {},
   "outputs": [],
   "source": [
    "! pip install ipywidgets"
   ]
  },
  {
   "cell_type": "code",
   "execution_count": null,
   "id": "bb4bdb8f",
   "metadata": {},
   "outputs": [],
   "source": [
    "stub = modal.Stub(\n",
    "    name=\"run-word-alignment-debug\",\n",
    "    image=modal.Image.debian_slim().pip_install(\n",
    "        \"pandas==1.4.3\",\n",
    "        \"machine==0.0.1\",\n",
    "        \"sil-machine[thot]>=0.8.3\",\n",
    "        \"asyncio\"\n",
    "    ).copy(\n",
    "        mount=modal.Mount.from_local_dir(\n",
    "            local_path=Path(\"../../fixtures/\"), remote_path=Path(\"/root/fixtures\")\n",
    "        ),\n",
    "    ),\n",
    ")"
   ]
  },
  {
   "cell_type": "code",
   "execution_count": null,
   "id": "e0b08aca",
   "metadata": {},
   "outputs": [],
   "source": [
    "stub.run_word_alignment = modal.Function.from_name(\"word-alignment-test\", \"assess\")"
   ]
  },
  {
   "cell_type": "code",
   "execution_count": null,
   "id": "fa2bc37a",
   "metadata": {},
   "outputs": [],
   "source": [
    "@stub.function(\n",
    "            timeout=3600, \n",
    "            mounts=[\n",
    "    *modal.create_package_mounts([\"app\", \"word_alignment_steps\"]),\n",
    "    modal.Mount.from_local_dir(local_path=\"./\", remote_path=\"/\"),\n",
    "])\n",
    "def get_results(config):\n",
    "    from app import Assessment\n",
    "    assessment_config = Assessment(\n",
    "            revision=config['revision'], \n",
    "            reference=config['reference'], \n",
    "            type='word-alignment'\n",
    "            )\n",
    "    results = modal.container_app.run_word_alignment.call(assessment_config, return_all_results = True)\n",
    "    return results"
   ]
  },
  {
   "cell_type": "code",
   "execution_count": null,
   "id": "32d658a0",
   "metadata": {},
   "outputs": [],
   "source": [
    "def assess_draft(revision, reference):\n",
    "    with stub.run():\n",
    "\n",
    "        config = {\n",
    "                'revision':revision, \n",
    "                'reference':reference, \n",
    "        }\n",
    "        \n",
    "        results = get_results.call(config=config)\n",
    "    return results"
   ]
  },
  {
   "cell_type": "code",
   "execution_count": null,
   "id": "980f6aab",
   "metadata": {},
   "outputs": [],
   "source": [
    "revision = 481 # Isenye\n",
    "reference = 163 # Hebrew Lemma"
   ]
  },
  {
   "cell_type": "code",
   "execution_count": null,
   "id": "83f4a08a",
   "metadata": {
    "scrolled": false
   },
   "outputs": [],
   "source": [
    "results = assess_draft(revision, reference)"
   ]
  },
  {
   "cell_type": "code",
   "execution_count": null,
   "id": "749c1c88",
   "metadata": {
    "scrolled": true
   },
   "outputs": [],
   "source": [
    "results.shape"
   ]
  },
  {
   "cell_type": "code",
   "execution_count": null,
   "id": "b34246da",
   "metadata": {},
   "outputs": [],
   "source": [
    "all_results = results"
   ]
  },
  {
   "cell_type": "code",
   "execution_count": null,
   "id": "c991c399",
   "metadata": {},
   "outputs": [],
   "source": [
    "all_results.loc[:, 'total_score'] = all_results.apply(lambda row: (row['avg_aligned'] + row['translation_score'] + row['alignment_score'] + row['match_score'] + row['embedding_score']) / 5, axis=1)\n"
   ]
  },
  {
   "cell_type": "code",
   "execution_count": null,
   "id": "cbfaf13b",
   "metadata": {},
   "outputs": [],
   "source": [
    "all_results.loc[:, 'total_score'] = all_results[['avg_aligned', 'alignment_score', 'translation_score', 'match_score', 'embedding_score']].mean(axis=1)"
   ]
  },
  {
   "cell_type": "code",
   "execution_count": null,
   "id": "bc33928c",
   "metadata": {},
   "outputs": [],
   "source": [
    "all_results"
   ]
  },
  {
   "cell_type": "code",
   "execution_count": null,
   "id": "096b35fd",
   "metadata": {},
   "outputs": [],
   "source": [
    "results[results['vref'] == 'LUK 1:1']"
   ]
  },
  {
   "cell_type": "code",
   "execution_count": null,
   "id": "e66182bd",
   "metadata": {},
   "outputs": [],
   "source": [
    "total_scores_df = results[['vref', 'source', 'target', 'total_score']]\n",
    "top_source_scores_df = total_scores_df.fillna(0)\n",
    "# top_source_scores_df = top_source_scores_df.loc[top_source_scores_df.groupby(['vref', 'source'], sort=False)['total_score'].idxmax(), :].reset_index(drop=True)\n",
    "top_source_scores_df = top_source_scores_df.loc[top_source_scores_df.groupby(['vref', 'source'], sort=False, as_index=False)"
   ]
  },
  {
   "cell_type": "code",
   "execution_count": null,
   "id": "0aeb03dc",
   "metadata": {},
   "outputs": [],
   "source": [
    "top_source_scores_df"
   ]
  },
  {
   "cell_type": "code",
   "execution_count": null,
   "id": "94796b4d",
   "metadata": {},
   "outputs": [],
   "source": [
    "top_source_scores_df.loc[top_source_scores_df.groupby(['vref', 'source'], sort=False)['total_score'].idxmax(), :].reset_index(drop=True)"
   ]
  },
  {
   "cell_type": "code",
   "execution_count": null,
   "id": "ab219d99",
   "metadata": {},
   "outputs": [],
   "source": [
    "top_source_scores_df.loc[top_source_scores_df.groupby(['vref', 'source'], sort=False, as_index=False).idxmax()]"
   ]
  },
  {
   "cell_type": "code",
   "execution_count": null,
   "id": "434687e1",
   "metadata": {},
   "outputs": [],
   "source": [
    "top_source_scores_df[:100]"
   ]
  },
  {
   "cell_type": "code",
   "execution_count": null,
   "id": "6c8e978a",
   "metadata": {},
   "outputs": [],
   "source": [
    "verse_scores_df = top_source_scores_df.groupby('vref', as_index=False, sort=False).mean()\n",
    "verse_scores_df = verse_scores_df.fillna(0)"
   ]
  },
  {
   "cell_type": "code",
   "execution_count": null,
   "id": "89954f29",
   "metadata": {},
   "outputs": [],
   "source": [
    "verse_scores_df['total_score'].mean()\n",
    "verse_scores_df.loc[:, 'score'] = verse_scores_df['total_score'].apply(lambda x: 16*x)"
   ]
  },
  {
   "cell_type": "code",
   "execution_count": null,
   "id": "c093616a",
   "metadata": {},
   "outputs": [],
   "source": [
    "verse_scores_df[:200]"
   ]
  },
  {
   "cell_type": "code",
   "execution_count": null,
   "id": "3a47d5c0",
   "metadata": {},
   "outputs": [],
   "source": []
  }
 ],
 "metadata": {
  "kernelspec": {
   "display_name": "aqua-api",
   "language": "python",
   "name": "aqua-api"
  },
  "language_info": {
   "codemirror_mode": {
    "name": "ipython",
    "version": 3
   },
   "file_extension": ".py",
   "mimetype": "text/x-python",
   "name": "python",
   "nbconvert_exporter": "python",
   "pygments_lexer": "ipython3",
   "version": "3.10.6"
  }
 },
 "nbformat": 4,
 "nbformat_minor": 5
}
