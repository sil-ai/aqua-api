{
 "cells": [
  {
   "cell_type": "code",
   "execution_count": 152,
   "metadata": {},
   "outputs": [],
   "source": [
    "import requests\n",
    "import sys, os\n",
    "from dotenv import load_dotenv\n",
    "current_dir = os.getcwd()\n",
    "parent_dir = os.path.dirname(current_dir)\n",
    "sys.path.append(parent_dir)\n",
    "from security_routes.utilities import hash_password\n",
    "from pathlib import Path"
   ]
  },
  {
   "cell_type": "markdown",
   "metadata": {},
   "source": [
    "## Base URL\n",
    "\n",
    "You can run this notebook locally, on main runner, or development runner, please uncomment the one you are going to use, and comment the other base url's"
   ]
  },
  {
   "cell_type": "code",
   "execution_count": 153,
   "metadata": {},
   "outputs": [],
   "source": [
    "# Main runner\n",
    "# base_url = \"https://tmv9bz5v4q.us-east-1.awsapprunner.com/\"\n",
    "# Development runner\n",
    "base_url = \"https://cp3by92k8p.us-east-1.awsapprunner.com/\"\n",
    "# Local\n",
    "# base_url = \"http://localhost:8000/\"\n",
    "prefix = \"latest\""
   ]
  },
  {
   "cell_type": "code",
   "execution_count": 154,
   "metadata": {},
   "outputs": [
    {
     "data": {
      "text/plain": [
       "'$2b$12$BtDqUNK8Kiq1RSWaMsvbVu7bPOfobUGD1otoi5WfTTkgkGLO1XGqm'"
      ]
     },
     "execution_count": 154,
     "metadata": {},
     "output_type": "execute_result"
    }
   ],
   "source": [
    "hash_password(\"password\")"
   ]
  },
  {
   "cell_type": "code",
   "execution_count": 155,
   "metadata": {},
   "outputs": [
    {
     "data": {
      "text/plain": [
       "True"
      ]
     },
     "execution_count": 155,
     "metadata": {},
     "output_type": "execute_result"
    }
   ],
   "source": [
    "load_dotenv(\"../.env\", override=True)"
   ]
  },
  {
   "cell_type": "code",
   "execution_count": 156,
   "metadata": {},
   "outputs": [
    {
     "data": {
      "text/plain": [
       "True"
      ]
     },
     "execution_count": 156,
     "metadata": {},
     "output_type": "execute_result"
    }
   ],
   "source": [
    "adminpassword = os.getenv(\"ADMIN_PASSWORD\")\n",
    "adminpassword is not None"
   ]
  },
  {
   "cell_type": "code",
   "execution_count": 157,
   "metadata": {},
   "outputs": [],
   "source": [
    "response = requests.post(\n",
    "    base_url+\"latest/token\", data={\"username\": \"admin\", \"password\": adminpassword}\n",
    ")\n",
    "admin_token = response.json()[\"access_token\"]"
   ]
  },
  {
   "cell_type": "code",
   "execution_count": 112,
   "metadata": {},
   "outputs": [
    {
     "data": {
      "text/plain": [
       "145"
      ]
     },
     "execution_count": 112,
     "metadata": {},
     "output_type": "execute_result"
    }
   ],
   "source": [
    "len(admin_token)"
   ]
  },
  {
   "cell_type": "markdown",
   "metadata": {},
   "source": [
    "Create user and group"
   ]
  },
  {
   "cell_type": "code",
   "execution_count": 113,
   "metadata": {},
   "outputs": [
    {
     "data": {
      "text/plain": [
       "<Response [400]>"
      ]
     },
     "execution_count": 113,
     "metadata": {},
     "output_type": "execute_result"
    }
   ],
   "source": [
    "new_user_data = {\n",
    "        \"username\": \"new_user\",\n",
    "        \"email\": \"new_user@example.com\",\n",
    "        \"is_admin\": False,\n",
    "    }\n",
    "\n",
    "new_auth_data = {\n",
    "    \"username\": \"new_user\",\n",
    "    \"password\": \"password123\",\n",
    "}\n",
    "\n",
    "response = requests.post(\n",
    "        base_url + f\"{prefix}/users\",\n",
    "        params=new_user_data,\n",
    "        data=new_auth_data,\n",
    "        headers={\"Authorization\": f\"Bearer {admin_token}\"},\n",
    "    )\n",
    "\n",
    "response"
   ]
  },
  {
   "cell_type": "code",
   "execution_count": 114,
   "metadata": {},
   "outputs": [
    {
     "data": {
      "text/plain": [
       "'{\"detail\":\"Username already registered\"}'"
      ]
     },
     "execution_count": 114,
     "metadata": {},
     "output_type": "execute_result"
    }
   ],
   "source": [
    "response.text"
   ]
  },
  {
   "cell_type": "code",
   "execution_count": 115,
   "metadata": {},
   "outputs": [
    {
     "data": {
      "text/plain": [
       "<Response [400]>"
      ]
     },
     "execution_count": 115,
     "metadata": {},
     "output_type": "execute_result"
    }
   ],
   "source": [
    "group_data = {\n",
    "    \"name\": \"new_group\",\n",
    "    \"description\": \"A new group\",\n",
    "}\n",
    "response = requests.post(\n",
    "    base_url+f\"{prefix}/groups\",\n",
    "    params=group_data,\n",
    "    headers={\"Authorization\": f\"Bearer {admin_token}\"},\n",
    ")\n",
    "response"
   ]
  },
  {
   "cell_type": "code",
   "execution_count": 116,
   "metadata": {},
   "outputs": [
    {
     "data": {
      "text/plain": [
       "'{\"detail\":\"Group already exists\"}'"
      ]
     },
     "execution_count": 116,
     "metadata": {},
     "output_type": "execute_result"
    }
   ],
   "source": [
    "response.text"
   ]
  },
  {
   "cell_type": "code",
   "execution_count": 117,
   "metadata": {},
   "outputs": [
    {
     "data": {
      "text/plain": [
       "<Response [400]>"
      ]
     },
     "execution_count": 117,
     "metadata": {},
     "output_type": "execute_result"
    }
   ],
   "source": [
    "link_data = {\n",
    "    \"username\": \"new_user\",\n",
    "    \"groupname\": \"new_group\",\n",
    "}\n",
    "response = requests.post(\n",
    "    base_url+f\"{prefix}/link-user-group\",\n",
    "    params=link_data,\n",
    "    headers={\"Authorization\": f\"Bearer {admin_token}\"},\n",
    ")\n",
    "response"
   ]
  },
  {
   "cell_type": "code",
   "execution_count": 118,
   "metadata": {},
   "outputs": [
    {
     "data": {
      "text/plain": [
       "'{\"detail\":\"User is already linked to this group\"}'"
      ]
     },
     "execution_count": 118,
     "metadata": {},
     "output_type": "execute_result"
    }
   ],
   "source": [
    "response.text"
   ]
  },
  {
   "cell_type": "markdown",
   "metadata": {},
   "source": [
    "Create a revision"
   ]
  },
  {
   "cell_type": "code",
   "execution_count": 119,
   "metadata": {},
   "outputs": [],
   "source": [
    "response = requests.post(\n",
    "    base_url+\"latest/token\", data={\"username\": \"new_user\", \"password\": \"password123\"}\n",
    ")\n",
    "token = response.json()[\"access_token\"]"
   ]
  },
  {
   "cell_type": "code",
   "execution_count": 120,
   "metadata": {},
   "outputs": [
    {
     "data": {
      "text/plain": [
       "151"
      ]
     },
     "execution_count": 120,
     "metadata": {},
     "output_type": "execute_result"
    }
   ],
   "source": [
    "len(token)"
   ]
  },
  {
   "cell_type": "code",
   "execution_count": 121,
   "metadata": {},
   "outputs": [
    {
     "data": {
      "text/plain": [
       "{'id': 1727,\n",
       " 'name': 'New Version',\n",
       " 'iso_language': 'eng',\n",
       " 'iso_script': 'Latn',\n",
       " 'abbreviation': 'NV',\n",
       " 'rights': 'Some Rights',\n",
       " 'forward_translation_id': None,\n",
       " 'back_translation_id': None,\n",
       " 'machineTranslation': False,\n",
       " 'owner_id': 382,\n",
       " 'group_ids': [],\n",
       " 'is_reference': True}"
      ]
     },
     "execution_count": 121,
     "metadata": {},
     "output_type": "execute_result"
    }
   ],
   "source": [
    "new_version_data = {\n",
    "    \"name\": \"New Version\",\n",
    "    \"iso_language\": \"eng\",\n",
    "    \"iso_script\": \"Latn\",\n",
    "    \"abbreviation\": \"NV\",\n",
    "    \"rights\": \"Some Rights\",\n",
    "    \"machineTranslation\": False,\n",
    "    \"is_reference\": True,\n",
    "}\n",
    "\n",
    "response = requests.post(\n",
    "    base_url+f\"{prefix}/version\",\n",
    "    json=new_version_data,\n",
    "    headers={\"Authorization\": f\"Bearer {token}\"},\n",
    ")\n",
    "version_id =response.json()[\"id\"]\n",
    "response.json()"
   ]
  },
  {
   "cell_type": "markdown",
   "metadata": {},
   "source": [
    "Update Name"
   ]
  },
  {
   "cell_type": "code",
   "execution_count": 122,
   "metadata": {},
   "outputs": [
    {
     "data": {
      "text/plain": [
       "'New Version 2'"
      ]
     },
     "execution_count": 122,
     "metadata": {},
     "output_type": "execute_result"
    }
   ],
   "source": [
    "# Modify name of the version\n",
    "attr_update = {\n",
    "    \"id\": version_id,\n",
    "    \"name\": \"New Version 2\"\n",
    "    }\n",
    "response = requests.put(\n",
    "    base_url+f\"{prefix}/version\",\n",
    "    json=attr_update,\n",
    "    headers={\"Authorization\": f\"Bearer {token}\"},\n",
    ")\n",
    "version_name = response.json()[\"name\"]\n",
    "version_name"
   ]
  },
  {
   "cell_type": "code",
   "execution_count": 123,
   "metadata": {},
   "outputs": [
    {
     "name": "stdout",
     "output_type": "stream",
     "text": [
      "{'name': 'New Version', 'iso_language': 'eng', 'iso_script': 'Latn', 'abbreviation': 'NV', 'rights': 'Some Rights', 'machineTranslation': False, 'is_reference': True}\n"
     ]
    }
   ],
   "source": [
    "print(new_version_data)"
   ]
  },
  {
   "cell_type": "code",
   "execution_count": 124,
   "metadata": {},
   "outputs": [
    {
     "data": {
      "text/plain": [
       "'{\"name\":\"New Version 2\",\"iso_language\":\"eng\",\"abbreviation\":\"NV\",\"forward_translation_id\":null,\"machine_translation\":false,\"deleted\":false,\"owner_id\":382,\"id\":1727,\"iso_script\":\"Latn\",\"rights\":\"Some Rights\",\"back_translation_id\":null,\"is_reference\":true,\"deletedAt\":null}'"
      ]
     },
     "execution_count": 124,
     "metadata": {},
     "output_type": "execute_result"
    }
   ],
   "source": [
    "response.text"
   ]
  },
  {
   "cell_type": "code",
   "execution_count": 125,
   "metadata": {},
   "outputs": [],
   "source": [
    "headers = {\"Authorization\": f\"Bearer {admin_token}\"}"
   ]
  },
  {
   "cell_type": "code",
   "execution_count": 126,
   "metadata": {},
   "outputs": [
    {
     "data": {
      "text/plain": [
       "{'id': 2652,\n",
       " 'bible_version_id': 1727,\n",
       " 'version_abbreviation': 'NV',\n",
       " 'date': '2025-02-10',\n",
       " 'name': 'Test Revision',\n",
       " 'published': False,\n",
       " 'back_translation_id': None,\n",
       " 'machineTranslation': False,\n",
       " 'iso_language': 'eng',\n",
       " 'is_reference': False}"
      ]
     },
     "execution_count": 126,
     "metadata": {},
     "output_type": "execute_result"
    }
   ],
   "source": [
    "\n",
    "test_revision = {\n",
    "    \"version_id\": version_id,\n",
    "    \"name\": \"Test Revision\",\n",
    "}\n",
    "test_upload_file = Path(\"../fixtures/uploadtest.txt\")\n",
    "\n",
    "with open(test_upload_file, \"rb\") as file:\n",
    "    files = {\"file\": file}\n",
    "    response = requests.post(\n",
    "    base_url + f\"{prefix}/revision\", params=test_revision, files=files, headers=headers\n",
    "    )\n",
    "revision_id =response.json()[\"id\"]\n",
    "response.json()"
   ]
  },
  {
   "cell_type": "code",
   "execution_count": 127,
   "metadata": {},
   "outputs": [
    {
     "data": {
      "text/plain": [
       "'{\"id\":2652,\"bible_version_id\":1727,\"version_abbreviation\":\"NV\",\"date\":\"2025-02-10\",\"name\":\"Test Revision\",\"published\":false,\"back_translation_id\":null,\"machineTranslation\":false,\"iso_language\":\"eng\",\"is_reference\":false}'"
      ]
     },
     "execution_count": 127,
     "metadata": {},
     "output_type": "execute_result"
    }
   ],
   "source": [
    "response.text"
   ]
  },
  {
   "cell_type": "code",
   "execution_count": 128,
   "metadata": {},
   "outputs": [
    {
     "data": {
      "text/plain": [
       "[{'id': 1802,\n",
       "  'bible_version_id': 1172,\n",
       "  'version_abbreviation': 'NV',\n",
       "  'date': '2024-10-02',\n",
       "  'name': 'Test Revision',\n",
       "  'published': False,\n",
       "  'back_translation_id': None,\n",
       "  'machineTranslation': False,\n",
       "  'iso_language': 'eng',\n",
       "  'is_reference': False},\n",
       " {'id': 1799,\n",
       "  'bible_version_id': 1168,\n",
       "  'version_abbreviation': 'NV',\n",
       "  'date': '2024-10-02',\n",
       "  'name': 'Test Revision',\n",
       "  'published': False,\n",
       "  'back_translation_id': None,\n",
       "  'machineTranslation': False,\n",
       "  'iso_language': 'eng',\n",
       "  'is_reference': False},\n",
       " {'id': 1877,\n",
       "  'bible_version_id': 1212,\n",
       "  'version_abbreviation': 'NV',\n",
       "  'date': '2024-10-02',\n",
       "  'name': 'Test Revision',\n",
       "  'published': False,\n",
       "  'back_translation_id': None,\n",
       "  'machineTranslation': False,\n",
       "  'iso_language': 'eng',\n",
       "  'is_reference': False},\n",
       " {'id': 1878,\n",
       "  'bible_version_id': 1212,\n",
       "  'version_abbreviation': 'NV',\n",
       "  'date': '2024-10-02',\n",
       "  'name': 'Test Revision',\n",
       "  'published': False,\n",
       "  'back_translation_id': None,\n",
       "  'machineTranslation': False,\n",
       "  'iso_language': 'eng',\n",
       "  'is_reference': False},\n",
       " {'id': 1871,\n",
       "  'bible_version_id': 1209,\n",
       "  'version_abbreviation': 'NV',\n",
       "  'date': '2024-10-02',\n",
       "  'name': 'Test Revision',\n",
       "  'published': False,\n",
       "  'back_translation_id': None,\n",
       "  'machineTranslation': False,\n",
       "  'iso_language': 'eng',\n",
       "  'is_reference': False},\n",
       " {'id': 1873,\n",
       "  'bible_version_id': 1210,\n",
       "  'version_abbreviation': 'NV',\n",
       "  'date': '2024-10-02',\n",
       "  'name': 'Test Revision',\n",
       "  'published': False,\n",
       "  'back_translation_id': None,\n",
       "  'machineTranslation': False,\n",
       "  'iso_language': 'eng',\n",
       "  'is_reference': False},\n",
       " {'id': 1865,\n",
       "  'bible_version_id': 1206,\n",
       "  'version_abbreviation': 'NV',\n",
       "  'date': '2024-10-02',\n",
       "  'name': 'Test Revision',\n",
       "  'published': False,\n",
       "  'back_translation_id': None,\n",
       "  'machineTranslation': False,\n",
       "  'iso_language': 'eng',\n",
       "  'is_reference': False},\n",
       " {'id': 1870,\n",
       "  'bible_version_id': 1208,\n",
       "  'version_abbreviation': 'NV',\n",
       "  'date': '2024-10-02',\n",
       "  'name': 'Test Revision',\n",
       "  'published': False,\n",
       "  'back_translation_id': None,\n",
       "  'machineTranslation': False,\n",
       "  'iso_language': 'eng',\n",
       "  'is_reference': False},\n",
       " {'id': 2646,\n",
       "  'bible_version_id': 1722,\n",
       "  'version_abbreviation': 'NV',\n",
       "  'date': '2025-02-06',\n",
       "  'name': 'Test Revision',\n",
       "  'published': False,\n",
       "  'back_translation_id': None,\n",
       "  'machineTranslation': False,\n",
       "  'iso_language': 'eng',\n",
       "  'is_reference': False},\n",
       " {'id': 1860,\n",
       "  'bible_version_id': 1201,\n",
       "  'version_abbreviation': 'NV',\n",
       "  'date': '2024-10-02',\n",
       "  'name': 'Test Revision',\n",
       "  'published': False,\n",
       "  'back_translation_id': None,\n",
       "  'machineTranslation': False,\n",
       "  'iso_language': 'eng',\n",
       "  'is_reference': False},\n",
       " {'id': 1855,\n",
       "  'bible_version_id': 1201,\n",
       "  'version_abbreviation': 'NV',\n",
       "  'date': '2024-10-02',\n",
       "  'name': 'Test Revision',\n",
       "  'published': False,\n",
       "  'back_translation_id': None,\n",
       "  'machineTranslation': False,\n",
       "  'iso_language': 'eng',\n",
       "  'is_reference': False},\n",
       " {'id': 1801,\n",
       "  'bible_version_id': 1171,\n",
       "  'version_abbreviation': 'NV',\n",
       "  'date': '2024-10-02',\n",
       "  'name': 'Test Revision',\n",
       "  'published': False,\n",
       "  'back_translation_id': None,\n",
       "  'machineTranslation': False,\n",
       "  'iso_language': 'eng',\n",
       "  'is_reference': False},\n",
       " {'id': 1866,\n",
       "  'bible_version_id': 1206,\n",
       "  'version_abbreviation': 'NV',\n",
       "  'date': '2024-10-02',\n",
       "  'name': 'Test Revision',\n",
       "  'published': False,\n",
       "  'back_translation_id': None,\n",
       "  'machineTranslation': False,\n",
       "  'iso_language': 'eng',\n",
       "  'is_reference': False},\n",
       " {'id': 1869,\n",
       "  'bible_version_id': 1208,\n",
       "  'version_abbreviation': 'NV',\n",
       "  'date': '2024-10-02',\n",
       "  'name': 'Test Revision',\n",
       "  'published': False,\n",
       "  'back_translation_id': None,\n",
       "  'machineTranslation': False,\n",
       "  'iso_language': 'eng',\n",
       "  'is_reference': False},\n",
       " {'id': 1867,\n",
       "  'bible_version_id': 1207,\n",
       "  'version_abbreviation': 'NV',\n",
       "  'date': '2024-10-02',\n",
       "  'name': 'Test Revision',\n",
       "  'published': False,\n",
       "  'back_translation_id': None,\n",
       "  'machineTranslation': False,\n",
       "  'iso_language': 'eng',\n",
       "  'is_reference': False},\n",
       " {'id': 1875,\n",
       "  'bible_version_id': 1211,\n",
       "  'version_abbreviation': 'NV',\n",
       "  'date': '2024-10-02',\n",
       "  'name': 'Test Revision',\n",
       "  'published': False,\n",
       "  'back_translation_id': None,\n",
       "  'machineTranslation': False,\n",
       "  'iso_language': 'eng',\n",
       "  'is_reference': False},\n",
       " {'id': 2652,\n",
       "  'bible_version_id': 1727,\n",
       "  'version_abbreviation': 'NV',\n",
       "  'date': '2025-02-10',\n",
       "  'name': 'Test Revision',\n",
       "  'published': False,\n",
       "  'back_translation_id': None,\n",
       "  'machineTranslation': False,\n",
       "  'iso_language': 'eng',\n",
       "  'is_reference': False},\n",
       " {'id': 1872,\n",
       "  'bible_version_id': 1209,\n",
       "  'version_abbreviation': 'NV',\n",
       "  'date': '2024-10-02',\n",
       "  'name': 'Test Revision',\n",
       "  'published': False,\n",
       "  'back_translation_id': None,\n",
       "  'machineTranslation': False,\n",
       "  'iso_language': 'eng',\n",
       "  'is_reference': False},\n",
       " {'id': 1868,\n",
       "  'bible_version_id': 1207,\n",
       "  'version_abbreviation': 'NV',\n",
       "  'date': '2024-10-02',\n",
       "  'name': 'Test Revision',\n",
       "  'published': False,\n",
       "  'back_translation_id': None,\n",
       "  'machineTranslation': False,\n",
       "  'iso_language': 'eng',\n",
       "  'is_reference': False},\n",
       " {'id': 1876,\n",
       "  'bible_version_id': 1211,\n",
       "  'version_abbreviation': 'NV',\n",
       "  'date': '2024-10-02',\n",
       "  'name': 'Test Revision',\n",
       "  'published': False,\n",
       "  'back_translation_id': None,\n",
       "  'machineTranslation': False,\n",
       "  'iso_language': 'eng',\n",
       "  'is_reference': False},\n",
       " {'id': 1800,\n",
       "  'bible_version_id': 1170,\n",
       "  'version_abbreviation': 'NV',\n",
       "  'date': '2024-10-02',\n",
       "  'name': 'Test Revision',\n",
       "  'published': False,\n",
       "  'back_translation_id': None,\n",
       "  'machineTranslation': False,\n",
       "  'iso_language': 'eng',\n",
       "  'is_reference': False},\n",
       " {'id': 1874,\n",
       "  'bible_version_id': 1210,\n",
       "  'version_abbreviation': 'NV',\n",
       "  'date': '2024-10-02',\n",
       "  'name': 'Test Revision',\n",
       "  'published': False,\n",
       "  'back_translation_id': None,\n",
       "  'machineTranslation': False,\n",
       "  'iso_language': 'eng',\n",
       "  'is_reference': False}]"
      ]
     },
     "execution_count": 128,
     "metadata": {},
     "output_type": "execute_result"
    }
   ],
   "source": [
    "response = requests.get(\n",
    "    base_url+f\"{prefix}/revision\",\n",
    "    headers={\"Authorization\": f\"Bearer {token}\"},\n",
    ")\n",
    "response.json()"
   ]
  },
  {
   "cell_type": "code",
   "execution_count": 129,
   "metadata": {},
   "outputs": [
    {
     "data": {
      "text/plain": [
       "[{'id': 1168,\n",
       "  'name': 'New Version 2',\n",
       "  'iso_language': 'eng',\n",
       "  'iso_script': 'Latn',\n",
       "  'abbreviation': 'NV',\n",
       "  'rights': 'Some Rights',\n",
       "  'forward_translation_id': None,\n",
       "  'back_translation_id': None,\n",
       "  'machineTranslation': False,\n",
       "  'owner_id': 382,\n",
       "  'group_ids': [473],\n",
       "  'is_reference': True},\n",
       " {'id': 1169,\n",
       "  'name': 'New Version',\n",
       "  'iso_language': 'eng',\n",
       "  'iso_script': 'Latn',\n",
       "  'abbreviation': 'NV',\n",
       "  'rights': 'Some Rights',\n",
       "  'forward_translation_id': None,\n",
       "  'back_translation_id': None,\n",
       "  'machineTranslation': False,\n",
       "  'owner_id': 382,\n",
       "  'group_ids': [473],\n",
       "  'is_reference': True},\n",
       " {'id': 1170,\n",
       "  'name': 'New Version 2',\n",
       "  'iso_language': 'eng',\n",
       "  'iso_script': 'Latn',\n",
       "  'abbreviation': 'NV',\n",
       "  'rights': 'Some Rights',\n",
       "  'forward_translation_id': None,\n",
       "  'back_translation_id': None,\n",
       "  'machineTranslation': False,\n",
       "  'owner_id': 382,\n",
       "  'group_ids': [473],\n",
       "  'is_reference': True},\n",
       " {'id': 1171,\n",
       "  'name': 'New Version 2',\n",
       "  'iso_language': 'eng',\n",
       "  'iso_script': 'Latn',\n",
       "  'abbreviation': 'NV',\n",
       "  'rights': 'Some Rights',\n",
       "  'forward_translation_id': None,\n",
       "  'back_translation_id': None,\n",
       "  'machineTranslation': False,\n",
       "  'owner_id': 382,\n",
       "  'group_ids': [473],\n",
       "  'is_reference': True},\n",
       " {'id': 1172,\n",
       "  'name': 'New Version 2',\n",
       "  'iso_language': 'eng',\n",
       "  'iso_script': 'Latn',\n",
       "  'abbreviation': 'NV',\n",
       "  'rights': 'Some Rights',\n",
       "  'forward_translation_id': None,\n",
       "  'back_translation_id': None,\n",
       "  'machineTranslation': False,\n",
       "  'owner_id': 382,\n",
       "  'group_ids': [473],\n",
       "  'is_reference': True},\n",
       " {'id': 1201,\n",
       "  'name': 'New Version 2',\n",
       "  'iso_language': 'eng',\n",
       "  'iso_script': 'Latn',\n",
       "  'abbreviation': 'NV',\n",
       "  'rights': 'Some Rights',\n",
       "  'forward_translation_id': None,\n",
       "  'back_translation_id': None,\n",
       "  'machineTranslation': False,\n",
       "  'owner_id': 382,\n",
       "  'group_ids': [473],\n",
       "  'is_reference': True},\n",
       " {'id': 1206,\n",
       "  'name': 'New Version 2',\n",
       "  'iso_language': 'eng',\n",
       "  'iso_script': 'Latn',\n",
       "  'abbreviation': 'NV',\n",
       "  'rights': 'Some Rights',\n",
       "  'forward_translation_id': None,\n",
       "  'back_translation_id': None,\n",
       "  'machineTranslation': False,\n",
       "  'owner_id': 382,\n",
       "  'group_ids': [473],\n",
       "  'is_reference': True},\n",
       " {'id': 1207,\n",
       "  'name': 'New Version 2',\n",
       "  'iso_language': 'eng',\n",
       "  'iso_script': 'Latn',\n",
       "  'abbreviation': 'NV',\n",
       "  'rights': 'Some Rights',\n",
       "  'forward_translation_id': None,\n",
       "  'back_translation_id': None,\n",
       "  'machineTranslation': False,\n",
       "  'owner_id': 382,\n",
       "  'group_ids': [473],\n",
       "  'is_reference': True},\n",
       " {'id': 1208,\n",
       "  'name': 'New Version 2',\n",
       "  'iso_language': 'eng',\n",
       "  'iso_script': 'Latn',\n",
       "  'abbreviation': 'NV',\n",
       "  'rights': 'Some Rights',\n",
       "  'forward_translation_id': None,\n",
       "  'back_translation_id': None,\n",
       "  'machineTranslation': False,\n",
       "  'owner_id': 382,\n",
       "  'group_ids': [473],\n",
       "  'is_reference': True},\n",
       " {'id': 1209,\n",
       "  'name': 'New Version 2',\n",
       "  'iso_language': 'eng',\n",
       "  'iso_script': 'Latn',\n",
       "  'abbreviation': 'NV',\n",
       "  'rights': 'Some Rights',\n",
       "  'forward_translation_id': None,\n",
       "  'back_translation_id': None,\n",
       "  'machineTranslation': False,\n",
       "  'owner_id': 382,\n",
       "  'group_ids': [473],\n",
       "  'is_reference': True},\n",
       " {'id': 1210,\n",
       "  'name': 'New Version 2',\n",
       "  'iso_language': 'eng',\n",
       "  'iso_script': 'Latn',\n",
       "  'abbreviation': 'NV',\n",
       "  'rights': 'Some Rights',\n",
       "  'forward_translation_id': None,\n",
       "  'back_translation_id': None,\n",
       "  'machineTranslation': False,\n",
       "  'owner_id': 382,\n",
       "  'group_ids': [473],\n",
       "  'is_reference': True},\n",
       " {'id': 1211,\n",
       "  'name': 'New Version 2',\n",
       "  'iso_language': 'eng',\n",
       "  'iso_script': 'Latn',\n",
       "  'abbreviation': 'NV',\n",
       "  'rights': 'Some Rights',\n",
       "  'forward_translation_id': None,\n",
       "  'back_translation_id': None,\n",
       "  'machineTranslation': False,\n",
       "  'owner_id': 382,\n",
       "  'group_ids': [473],\n",
       "  'is_reference': True},\n",
       " {'id': 1212,\n",
       "  'name': 'New Version 2',\n",
       "  'iso_language': 'eng',\n",
       "  'iso_script': 'Latn',\n",
       "  'abbreviation': 'NV',\n",
       "  'rights': 'Some Rights',\n",
       "  'forward_translation_id': None,\n",
       "  'back_translation_id': None,\n",
       "  'machineTranslation': False,\n",
       "  'owner_id': 382,\n",
       "  'group_ids': [473],\n",
       "  'is_reference': True},\n",
       " {'id': 1722,\n",
       "  'name': 'New Version 2',\n",
       "  'iso_language': 'eng',\n",
       "  'iso_script': 'Latn',\n",
       "  'abbreviation': 'NV',\n",
       "  'rights': 'Some Rights',\n",
       "  'forward_translation_id': None,\n",
       "  'back_translation_id': None,\n",
       "  'machineTranslation': False,\n",
       "  'owner_id': 382,\n",
       "  'group_ids': [473],\n",
       "  'is_reference': True},\n",
       " {'id': 1727,\n",
       "  'name': 'New Version 2',\n",
       "  'iso_language': 'eng',\n",
       "  'iso_script': 'Latn',\n",
       "  'abbreviation': 'NV',\n",
       "  'rights': 'Some Rights',\n",
       "  'forward_translation_id': None,\n",
       "  'back_translation_id': None,\n",
       "  'machineTranslation': False,\n",
       "  'owner_id': 382,\n",
       "  'group_ids': [473],\n",
       "  'is_reference': True}]"
      ]
     },
     "execution_count": 129,
     "metadata": {},
     "output_type": "execute_result"
    }
   ],
   "source": [
    "response = requests.get(\n",
    "    base_url+f\"{prefix}/version\",\n",
    "    headers={\"Authorization\": f\"Bearer {token}\"},\n",
    ")\n",
    "response.json()"
   ]
  },
  {
   "cell_type": "markdown",
   "metadata": {},
   "source": [
    "Create a new assesment"
   ]
  },
  {
   "cell_type": "code",
   "execution_count": 130,
   "metadata": {},
   "outputs": [
    {
     "name": "stdout",
     "output_type": "stream",
     "text": [
      "200\n",
      "[{'id': 4056, 'revision_id': 2652, 'reference_id': 2652, 'type': 'semantic-similarity', 'status': 'queued', 'requested_time': '2025-02-10T16:36:18.650733', 'start_time': None, 'end_time': None, 'owner_id': 115}]\n",
      "[{\"id\":4056,\"revision_id\":2652,\"reference_id\":2652,\"type\":\"semantic-similarity\",\"status\":\"queued\",\"requested_time\":\"2025-02-10T16:36:18.650733\",\"start_time\":null,\"end_time\":null,\"owner_id\":115}]\n",
      "200\n",
      "[{'id': 4057, 'revision_id': 2652, 'reference_id': 2652, 'type': 'word-alignment', 'status': 'queued', 'requested_time': '2025-02-10T16:36:20.747111', 'start_time': None, 'end_time': None, 'owner_id': 115}]\n",
      "[{\"id\":4057,\"revision_id\":2652,\"reference_id\":2652,\"type\":\"word-alignment\",\"status\":\"queued\",\"requested_time\":\"2025-02-10T16:36:20.747111\",\"start_time\":null,\"end_time\":null,\"owner_id\":115}]\n",
      "200\n",
      "[{'id': 4058, 'revision_id': 2652, 'reference_id': 2652, 'type': 'sentence-length', 'status': 'queued', 'requested_time': '2025-02-10T16:36:21.364032', 'start_time': None, 'end_time': None, 'owner_id': 115}]\n",
      "[{\"id\":4058,\"revision_id\":2652,\"reference_id\":2652,\"type\":\"sentence-length\",\"status\":\"queued\",\"requested_time\":\"2025-02-10T16:36:21.364032\",\"start_time\":null,\"end_time\":null,\"owner_id\":115}]\n"
     ]
    }
   ],
   "source": [
    "assessment_ids = []\n",
    "\n",
    "assessment_data = [\"semantic-similarity\", \"word-alignment\", \"sentence-length\"]\n",
    "for assessment in assessment_data:\n",
    "    data = {\"revision_id\": revision_id, \"reference_id\": revision_id, \"type\": str(assessment)}\n",
    "    response = requests.post(f\"{base_url}v3/assessment\", params=data, headers=headers)\n",
    "\n",
    "    print(response.status_code)\n",
    "    assessment_ids.append(response.json()[0][\"id\"])\n",
    "    print(response.json())\n",
    "    print(response.text)"
   ]
  },
  {
   "cell_type": "code",
   "execution_count": 136,
   "metadata": {},
   "outputs": [
    {
     "name": "stdout",
     "output_type": "stream",
     "text": [
      "{'results': [{'id': 61606752, 'assessment_id': 4056, 'vref': 'GEN 1:1', 'source': None, 'target': None, 'score': 0.9999999403953552, 'flag': False, 'note': None, 'revision_text': None, 'reference_text': None, 'hide': False}, {'id': 61606753, 'assessment_id': 4056, 'vref': 'GEN 1:2', 'source': None, 'target': None, 'score': 1.0, 'flag': False, 'note': None, 'revision_text': None, 'reference_text': None, 'hide': False}, {'id': 61606754, 'assessment_id': 4056, 'vref': 'GEN 1:3', 'source': None, 'target': None, 'score': 1.0, 'flag': False, 'note': None, 'revision_text': None, 'reference_text': None, 'hide': False}], 'total_count': 3}\n",
      "{'results': [{'id': 61606749, 'assessment_id': 4057, 'vref': 'GEN 1:1', 'source': None, 'target': None, 'score': 0.7131190708705357, 'flag': False, 'note': None, 'revision_text': None, 'reference_text': None, 'hide': False}, {'id': 61606750, 'assessment_id': 4057, 'vref': 'GEN 1:2', 'source': None, 'target': None, 'score': 0.8043554687500001, 'flag': False, 'note': None, 'revision_text': None, 'reference_text': None, 'hide': False}, {'id': 61606751, 'assessment_id': 4057, 'vref': 'GEN 1:3', 'source': None, 'target': None, 'score': 0.8403878348214285, 'flag': False, 'note': None, 'revision_text': None, 'reference_text': None, 'hide': False}], 'total_count': 3}\n",
      "{'results': [{'id': 61606746, 'assessment_id': 4058, 'vref': 'GEN 1:1', 'source': None, 'target': None, 'score': 29.088235294117645, 'flag': False, 'note': None, 'revision_text': None, 'reference_text': None, 'hide': False}, {'id': 61606747, 'assessment_id': 4058, 'vref': 'GEN 1:2', 'source': None, 'target': None, 'score': 29.088235294117645, 'flag': False, 'note': None, 'revision_text': None, 'reference_text': None, 'hide': False}, {'id': 61606748, 'assessment_id': 4058, 'vref': 'GEN 1:3', 'source': None, 'target': None, 'score': 29.088235294117645, 'flag': False, 'note': None, 'revision_text': None, 'reference_text': None, 'hide': False}], 'total_count': 3}\n"
     ]
    }
   ],
   "source": [
    "\n",
    "for assessment in assessment_ids:\n",
    "    assessment_id =  assessment\n",
    "    response_get = requests.get(\n",
    "        base_url+f\"{prefix}/result\",\n",
    "        headers={\"Authorization\": f\"Bearer {admin_token}\"},\n",
    "        params={\"assessment_id\": assessment_id},\n",
    "    )\n",
    "    print(response_get.json())"
   ]
  },
  {
   "cell_type": "code",
   "execution_count": 140,
   "metadata": {},
   "outputs": [],
   "source": [
    "data = {\"revision_id\": revision_id, \"reference_id\": revision_id, \"type\":\"ngrams\"}\n",
    "response = requests.post(f\"{base_url}v3/assessment\", params=data, headers=headers)\n",
    "\n",
    "\n"
   ]
  },
  {
   "cell_type": "code",
   "execution_count": 141,
   "metadata": {},
   "outputs": [
    {
     "name": "stdout",
     "output_type": "stream",
     "text": [
      "200\n",
      "[{'id': 4059, 'revision_id': 2652, 'reference_id': 2652, 'type': 'ngrams', 'status': 'queued', 'requested_time': '2025-02-10T16:42:15.763301', 'start_time': None, 'end_time': None, 'owner_id': 115}]\n",
      "[{\"id\":4059,\"revision_id\":2652,\"reference_id\":2652,\"type\":\"ngrams\",\"status\":\"queued\",\"requested_time\":\"2025-02-10T16:42:15.763301\",\"start_time\":null,\"end_time\":null,\"owner_id\":115}]\n"
     ]
    }
   ],
   "source": [
    "print(response.status_code)\n",
    "print(response.json())\n",
    "print(response.text)\n",
    "id = response.json()[0][\"id\"]\n",
    "assessment_ids.append(id)"
   ]
  },
  {
   "cell_type": "code",
   "execution_count": 143,
   "metadata": {},
   "outputs": [
    {
     "name": "stdout",
     "output_type": "stream",
     "text": [
      "{'results': [], 'total_count': 0}\n"
     ]
    }
   ],
   "source": [
    "assessment_id =  id\n",
    "response_get = requests.get(\n",
    "    base_url+f\"{prefix}/result\",\n",
    "    headers={\"Authorization\": f\"Bearer {admin_token}\"},\n",
    "    params={\"assessment_id\": assessment_id},\n",
    ")\n",
    "print(response_get.json())"
   ]
  },
  {
   "cell_type": "code",
   "execution_count": 144,
   "metadata": {},
   "outputs": [
    {
     "name": "stdout",
     "output_type": "stream",
     "text": [
      "{'detail': 'Assessment 4056 deleted successfully'}\n",
      "{'detail': 'Assessment 4057 deleted successfully'}\n",
      "{'detail': 'Assessment 4058 deleted successfully'}\n",
      "{'detail': 'Assessment 4059 deleted successfully'}\n"
     ]
    }
   ],
   "source": [
    "for assessment in assessment_ids:\n",
    "    assessment_id =  assessment\n",
    "    response_delete = requests.delete(\n",
    "        f\"{base_url}v3/assessment\",\n",
    "        headers={\"Authorization\": f\"Bearer {admin_token}\"},\n",
    "        params={\"assessment_id\": assessment_id},\n",
    "    )\n",
    "    print(response_delete.json())\n"
   ]
  },
  {
   "cell_type": "markdown",
   "metadata": {},
   "source": [
    "Delete version and revision"
   ]
  },
  {
   "cell_type": "code",
   "execution_count": 145,
   "metadata": {},
   "outputs": [
    {
     "data": {
      "text/plain": [
       "{'detail': 'Revision 2652 deleted successfully.'}"
      ]
     },
     "execution_count": 145,
     "metadata": {},
     "output_type": "execute_result"
    }
   ],
   "source": [
    "response = requests.delete(\n",
    "    base_url+f\"{prefix}/revision\",\n",
    "    params={\"id\": revision_id},\n",
    "    headers={\"Authorization\": f\"Bearer {admin_token}\"},\n",
    ")\n",
    "response.json()"
   ]
  },
  {
   "cell_type": "code",
   "execution_count": 146,
   "metadata": {},
   "outputs": [
    {
     "data": {
      "text/plain": [
       "{'detail': 'Version New Version 2 successfully deleted.'}"
      ]
     },
     "execution_count": 146,
     "metadata": {},
     "output_type": "execute_result"
    }
   ],
   "source": [
    "response = requests.delete(\n",
    "    base_url+f\"{prefix}/version\",\n",
    "    params={\"id\": version_id},\n",
    "    headers={\"Authorization\": f\"Bearer {admin_token}\"},\n",
    ")\n",
    "response.json()"
   ]
  },
  {
   "cell_type": "markdown",
   "metadata": {},
   "source": [
    "Delete user and group"
   ]
  },
  {
   "cell_type": "code",
   "execution_count": null,
   "metadata": {},
   "outputs": [
    {
     "data": {
      "text/plain": [
       "<Response [500]>"
      ]
     },
     "execution_count": 147,
     "metadata": {},
     "output_type": "execute_result"
    }
   ],
   "source": [
    "# response = requests.delete(\n",
    "#     base_url+f\"{prefix}/users\",\n",
    "#     params={\"username\": \"new_user\"},\n",
    "#     headers={\"Authorization\": f\"Bearer {admin_token}\"},\n",
    "# )\n",
    "# response"
   ]
  },
  {
   "cell_type": "code",
   "execution_count": 148,
   "metadata": {},
   "outputs": [
    {
     "data": {
      "text/plain": [
       "'Internal Server Error'"
      ]
     },
     "execution_count": 148,
     "metadata": {},
     "output_type": "execute_result"
    }
   ],
   "source": [
    "# response.text"
   ]
  },
  {
   "cell_type": "code",
   "execution_count": 149,
   "metadata": {},
   "outputs": [
    {
     "data": {
      "text/plain": [
       "<Response [400]>"
      ]
     },
     "execution_count": 149,
     "metadata": {},
     "output_type": "execute_result"
    }
   ],
   "source": [
    "# response = requests.delete(\n",
    "#     base_url+f\"{prefix}/groups\",\n",
    "#     params={\"groupname\": \"new_group\"},\n",
    "#     headers={\"Authorization\": f\"Bearer {admin_token}\"},\n",
    "# )\n",
    "# response"
   ]
  },
  {
   "cell_type": "code",
   "execution_count": 150,
   "metadata": {},
   "outputs": [
    {
     "data": {
      "text/plain": [
       "'{\"detail\":\"Group is linked to users and cannot be deleted\"}'"
      ]
     },
     "execution_count": 150,
     "metadata": {},
     "output_type": "execute_result"
    }
   ],
   "source": [
    "# response.text"
   ]
  },
  {
   "cell_type": "code",
   "execution_count": 151,
   "metadata": {},
   "outputs": [],
   "source": [
    "# headers = {\"Authorization\": f\"Bearer {admin_token}\"}\n",
    "# response = requests.get(f\"{base_url}v3/language\", headers=headers)\n",
    "# assert response.status_code == 200\n",
    "# assert {\"iso639\": \"eng\", \"name\": \"english\"} in response.json()\n",
    "# print(response.json())"
   ]
  },
  {
   "cell_type": "code",
   "execution_count": null,
   "metadata": {},
   "outputs": [],
   "source": []
  }
 ],
 "metadata": {
  "kernelspec": {
   "display_name": "venv",
   "language": "python",
   "name": "python3"
  },
  "language_info": {
   "codemirror_mode": {
    "name": "ipython",
    "version": 3
   },
   "file_extension": ".py",
   "mimetype": "text/x-python",
   "name": "python",
   "nbconvert_exporter": "python",
   "pygments_lexer": "ipython3",
   "version": "3.11.0rc1"
  }
 },
 "nbformat": 4,
 "nbformat_minor": 2
}
