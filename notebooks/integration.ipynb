{
 "cells": [
  {
   "cell_type": "code",
   "execution_count": 4,
   "metadata": {},
   "outputs": [],
   "source": [
    "import requests\n",
    "import sys, os\n",
    "from dotenv import load_dotenv\n",
    "current_dir = os.getcwd()\n",
    "parent_dir = os.path.dirname(current_dir)\n",
    "sys.path.append(parent_dir)\n",
    "from security_routes.utilities import hash_password\n",
    "from pathlib import Path"
   ]
  },
  {
   "cell_type": "markdown",
   "metadata": {},
   "source": [
    "## Base URL\n",
    "\n",
    "You can run this notebook locally, on main runner, or development runner, please uncomment the one you are going to use, and comment the other base url's"
   ]
  },
  {
   "cell_type": "code",
   "execution_count": 5,
   "metadata": {},
   "outputs": [],
   "source": [
    "# Main runner\n",
    "# base_url = \"https://tmv9bz5v4q.us-east-1.awsapprunner.com/\"\n",
    "# Development runner\n",
    "# base_url = \"https://cp3by92k8p.us-east-1.awsapprunner.com/\"\n",
    "# Local\n",
    "base_url = \"http://localhost:8000/\"\n",
    "prefix = \"latest\""
   ]
  },
  {
   "cell_type": "code",
   "execution_count": 6,
   "metadata": {},
   "outputs": [
    {
     "data": {
      "text/plain": [
       "'$2b$12$xAY0w69jWoGB.SfdcoxOGucEi0mD1n3GXFr2dVTHFcyk016d3nkUq'"
      ]
     },
     "execution_count": 6,
     "metadata": {},
     "output_type": "execute_result"
    }
   ],
   "source": [
    "hash_password(\"password\")"
   ]
  },
  {
   "cell_type": "code",
   "execution_count": 7,
   "metadata": {},
   "outputs": [
    {
     "data": {
      "text/plain": [
       "True"
      ]
     },
     "execution_count": 7,
     "metadata": {},
     "output_type": "execute_result"
    }
   ],
   "source": [
    "load_dotenv(\"../.env\", override=True)"
   ]
  },
  {
   "cell_type": "code",
   "execution_count": 86,
   "metadata": {},
   "outputs": [
    {
     "data": {
      "text/plain": [
       "True"
      ]
     },
     "execution_count": 86,
     "metadata": {},
     "output_type": "execute_result"
    }
   ],
   "source": [
    "adminpassword = os.getenv(\"ADMIN_PASSWORD\")\n",
    "adminpassword is not None"
   ]
  },
  {
   "cell_type": "code",
   "execution_count": 98,
   "metadata": {},
   "outputs": [],
   "source": [
    "response = requests.post(\n",
    "    base_url+\"latest/token\", data={\"username\": \"admin\", \"password\": adminpassword}\n",
    ")\n",
    "\n",
    "admin_token = response.json()[\"access_token\"]"
   ]
  },
  {
   "cell_type": "code",
   "execution_count": 99,
   "metadata": {},
   "outputs": [
    {
     "data": {
      "text/plain": [
       "145"
      ]
     },
     "execution_count": 99,
     "metadata": {},
     "output_type": "execute_result"
    }
   ],
   "source": [
    "len(admin_token)"
   ]
  },
  {
   "cell_type": "markdown",
   "metadata": {},
   "source": [
    "Create user and group"
   ]
  },
  {
   "cell_type": "code",
   "execution_count": 100,
   "metadata": {},
   "outputs": [
    {
     "data": {
      "text/plain": [
       "<Response [200]>"
      ]
     },
     "execution_count": 100,
     "metadata": {},
     "output_type": "execute_result"
    }
   ],
   "source": [
    "new_user_data = {\n",
    "    \"username\": \"new_user\",\n",
    "    \"email\": \"new_user@example.com\",\n",
    "    \"password\": \"newpassword\",\n",
    "    \"is_admin\": False,\n",
    "}\n",
    "\n",
    "response = requests.post(\n",
    "    base_url+f\"{prefix}/users\",\n",
    "    params=new_user_data,\n",
    "    headers={\"Authorization\": f\"Bearer {admin_token}\"},\n",
    ")\n",
    "\n",
    "response"
   ]
  },
  {
   "cell_type": "code",
   "execution_count": 101,
   "metadata": {},
   "outputs": [
    {
     "data": {
      "text/plain": [
       "'{\"id\":4,\"username\":\"new_user\",\"email\":\"new_user@example.com\",\"is_admin\":false,\"password\":null}'"
      ]
     },
     "execution_count": 101,
     "metadata": {},
     "output_type": "execute_result"
    }
   ],
   "source": [
    "response.text"
   ]
  },
  {
   "cell_type": "code",
   "execution_count": 102,
   "metadata": {},
   "outputs": [
    {
     "data": {
      "text/plain": [
       "<Response [200]>"
      ]
     },
     "execution_count": 102,
     "metadata": {},
     "output_type": "execute_result"
    }
   ],
   "source": [
    "group_data = {\n",
    "    \"name\": \"new_group\",\n",
    "    \"description\": \"A new group\",\n",
    "}\n",
    "response = requests.post(\n",
    "    base_url+f\"{prefix}/groups\",\n",
    "    params=group_data,\n",
    "    headers={\"Authorization\": f\"Bearer {admin_token}\"},\n",
    ")\n",
    "response"
   ]
  },
  {
   "cell_type": "code",
   "execution_count": 103,
   "metadata": {},
   "outputs": [
    {
     "data": {
      "text/plain": [
       "<Response [201]>"
      ]
     },
     "execution_count": 103,
     "metadata": {},
     "output_type": "execute_result"
    }
   ],
   "source": [
    "link_data = {\n",
    "    \"username\": \"new_user\",\n",
    "    \"groupname\": \"new_group\",\n",
    "}\n",
    "response = requests.post(\n",
    "    base_url+f\"{prefix}/link-user-group\",\n",
    "    params=link_data,\n",
    "    headers={\"Authorization\": f\"Bearer {admin_token}\"},\n",
    ")\n",
    "response"
   ]
  },
  {
   "cell_type": "markdown",
   "metadata": {},
   "source": [
    "Create a revision"
   ]
  },
  {
   "cell_type": "code",
   "execution_count": 104,
   "metadata": {},
   "outputs": [],
   "source": [
    "response = requests.post(\n",
    "    base_url+\"latest/token\", data={\"username\": \"new_user\", \"password\": \"newpassword\"}\n",
    ")\n",
    "token = response.json()[\"access_token\"]"
   ]
  },
  {
   "cell_type": "code",
   "execution_count": 105,
   "metadata": {},
   "outputs": [
    {
     "data": {
      "text/plain": [
       "151"
      ]
     },
     "execution_count": 105,
     "metadata": {},
     "output_type": "execute_result"
    }
   ],
   "source": [
    "len(token)"
   ]
  },
  {
   "cell_type": "code",
   "execution_count": 106,
   "metadata": {},
   "outputs": [
    {
     "data": {
      "text/plain": [
       "{'id': 2,\n",
       " 'name': 'New Version',\n",
       " 'iso_language': 'eng',\n",
       " 'iso_script': 'Latn',\n",
       " 'abbreviation': 'NV',\n",
       " 'rights': 'Some Rights',\n",
       " 'forward_translation_id': None,\n",
       " 'back_translation_id': None,\n",
       " 'machineTranslation': False,\n",
       " 'owner_id': 4,\n",
       " 'group_ids': [],\n",
       " 'is_reference': True}"
      ]
     },
     "execution_count": 106,
     "metadata": {},
     "output_type": "execute_result"
    }
   ],
   "source": [
    "new_version_data = {\n",
    "    \"name\": \"New Version\",\n",
    "    \"iso_language\": \"eng\",\n",
    "    \"iso_script\": \"Latn\",\n",
    "    \"abbreviation\": \"NV\",\n",
    "    \"rights\": \"Some Rights\",\n",
    "    \"machineTranslation\": False,\n",
    "    \"is_reference\": True,\n",
    "}\n",
    "\n",
    "response = requests.post(\n",
    "    base_url+f\"{prefix}/version\",\n",
    "    json=new_version_data,\n",
    "    headers={\"Authorization\": f\"Bearer {token}\"},\n",
    ")\n",
    "version_id =response.json()[\"id\"]\n",
    "response.json()"
   ]
  },
  {
   "cell_type": "markdown",
   "metadata": {},
   "source": [
    "Update Name"
   ]
  },
  {
   "cell_type": "code",
   "execution_count": 107,
   "metadata": {},
   "outputs": [
    {
     "data": {
      "text/plain": [
       "'New Version 2'"
      ]
     },
     "execution_count": 107,
     "metadata": {},
     "output_type": "execute_result"
    }
   ],
   "source": [
    "# Modify name of the version\n",
    "attr_update = {\n",
    "    \"id\": version_id,\n",
    "    \"name\": \"New Version 2\"\n",
    "    }\n",
    "response = requests.put(\n",
    "    base_url+f\"{prefix}/version\",\n",
    "    json=attr_update,\n",
    "    headers={\"Authorization\": f\"Bearer {token}\"},\n",
    ")\n",
    "version_name = response.json()[\"name\"]\n",
    "version_name"
   ]
  },
  {
   "cell_type": "code",
   "execution_count": 108,
   "metadata": {},
   "outputs": [
    {
     "name": "stdout",
     "output_type": "stream",
     "text": [
      "{'name': 'New Version', 'iso_language': 'eng', 'iso_script': 'Latn', 'abbreviation': 'NV', 'rights': 'Some Rights', 'machineTranslation': False, 'is_reference': True}\n"
     ]
    }
   ],
   "source": [
    "print(new_version_data)"
   ]
  },
  {
   "cell_type": "code",
   "execution_count": 109,
   "metadata": {},
   "outputs": [
    {
     "data": {
      "text/plain": [
       "'{\"name\":\"New Version 2\",\"iso_language\":\"eng\",\"abbreviation\":\"NV\",\"forward_translation_id\":null,\"machine_translation\":false,\"deleted\":false,\"owner_id\":4,\"id\":2,\"iso_script\":\"Latn\",\"rights\":\"Some Rights\",\"back_translation_id\":null,\"is_reference\":true,\"deletedAt\":null}'"
      ]
     },
     "execution_count": 109,
     "metadata": {},
     "output_type": "execute_result"
    }
   ],
   "source": [
    "response.text"
   ]
  },
  {
   "cell_type": "code",
   "execution_count": 110,
   "metadata": {},
   "outputs": [
    {
     "data": {
      "text/plain": [
       "{'id': 2,\n",
       " 'bible_version_id': 2,\n",
       " 'version_abbreviation': 'NV',\n",
       " 'date': '2024-05-20',\n",
       " 'name': 'Test Revision',\n",
       " 'published': False,\n",
       " 'back_translation_id': None,\n",
       " 'machineTranslation': False,\n",
       " 'iso_language': 'eng',\n",
       " 'is_reference': False}"
      ]
     },
     "execution_count": 110,
     "metadata": {},
     "output_type": "execute_result"
    }
   ],
   "source": [
    "headers = {\"Authorization\": f\"Bearer {token}\"}\n",
    "test_revision = {\n",
    "    \"version_id\": version_id,\n",
    "    \"name\": \"Test Revision\",\n",
    "}\n",
    "test_upload_file = Path(\"../fixtures/eng-eng-kjv.txt\")\n",
    "\n",
    "with open(test_upload_file, \"rb\") as file:\n",
    "    files = {\"file\": file}\n",
    "    response = requests.post(\n",
    "    base_url + f\"{prefix}/revision\", params=test_revision, files=files, headers=headers\n",
    "    )\n",
    "revision_id =response.json()[\"id\"]\n",
    "response.json()"
   ]
  },
  {
   "cell_type": "code",
   "execution_count": 111,
   "metadata": {},
   "outputs": [
    {
     "data": {
      "text/plain": [
       "'{\"id\":2,\"bible_version_id\":2,\"version_abbreviation\":\"NV\",\"date\":\"2024-05-20\",\"name\":\"Test Revision\",\"published\":false,\"back_translation_id\":null,\"machineTranslation\":false,\"iso_language\":\"eng\",\"is_reference\":false}'"
      ]
     },
     "execution_count": 111,
     "metadata": {},
     "output_type": "execute_result"
    }
   ],
   "source": [
    "response.text"
   ]
  },
  {
   "cell_type": "code",
   "execution_count": 112,
   "metadata": {},
   "outputs": [
    {
     "data": {
      "text/plain": [
       "[{'id': 1,\n",
       "  'bible_version_id': 1,\n",
       "  'version_abbreviation': 'BLTEST',\n",
       "  'date': '2024-05-20',\n",
       "  'name': None,\n",
       "  'published': False,\n",
       "  'back_translation_id': None,\n",
       "  'machineTranslation': False,\n",
       "  'iso_language': 'eng',\n",
       "  'is_reference': False},\n",
       " {'id': 2,\n",
       "  'bible_version_id': 2,\n",
       "  'version_abbreviation': 'NV',\n",
       "  'date': '2024-05-20',\n",
       "  'name': 'Test Revision',\n",
       "  'published': False,\n",
       "  'back_translation_id': None,\n",
       "  'machineTranslation': False,\n",
       "  'iso_language': 'eng',\n",
       "  'is_reference': False}]"
      ]
     },
     "execution_count": 112,
     "metadata": {},
     "output_type": "execute_result"
    }
   ],
   "source": [
    "response = requests.get(\n",
    "    base_url+f\"{prefix}/revision\",\n",
    "    headers={\"Authorization\": f\"Bearer {token}\"},\n",
    ")\n",
    "response.json()"
   ]
  },
  {
   "cell_type": "code",
   "execution_count": 113,
   "metadata": {},
   "outputs": [
    {
     "data": {
      "text/plain": [
       "[{'id': 2,\n",
       "  'name': 'New Version 2',\n",
       "  'iso_language': 'eng',\n",
       "  'iso_script': 'Latn',\n",
       "  'abbreviation': 'NV',\n",
       "  'rights': 'Some Rights',\n",
       "  'forward_translation_id': None,\n",
       "  'back_translation_id': None,\n",
       "  'machineTranslation': False,\n",
       "  'owner_id': 4,\n",
       "  'group_ids': [3],\n",
       "  'is_reference': True}]"
      ]
     },
     "execution_count": 113,
     "metadata": {},
     "output_type": "execute_result"
    }
   ],
   "source": [
    "response = requests.get(\n",
    "    base_url+f\"{prefix}/version\",\n",
    "    headers={\"Authorization\": f\"Bearer {token}\"},\n",
    ")\n",
    "response.json()"
   ]
  },
  {
   "cell_type": "markdown",
   "metadata": {},
   "source": [
    "Delete version and revision"
   ]
  },
  {
   "cell_type": "code",
   "execution_count": 114,
   "metadata": {},
   "outputs": [
    {
     "data": {
      "text/plain": [
       "{'detail': 'Revision 2 deleted successfully.'}"
      ]
     },
     "execution_count": 114,
     "metadata": {},
     "output_type": "execute_result"
    }
   ],
   "source": [
    "response = requests.delete(\n",
    "    base_url+f\"{prefix}/revision\",\n",
    "    params={\"id\": revision_id},\n",
    "    headers={\"Authorization\": f\"Bearer {token}\"},\n",
    ")\n",
    "response.json()"
   ]
  },
  {
   "cell_type": "code",
   "execution_count": 115,
   "metadata": {},
   "outputs": [
    {
     "data": {
      "text/plain": [
       "{'detail': 'Version New Version 2 successfully deleted.'}"
      ]
     },
     "execution_count": 115,
     "metadata": {},
     "output_type": "execute_result"
    }
   ],
   "source": [
    "response = requests.delete(\n",
    "    base_url+f\"{prefix}/version\",\n",
    "    params={\"id\": version_id},\n",
    "    headers={\"Authorization\": f\"Bearer {token}\"},\n",
    ")\n",
    "response.json()"
   ]
  },
  {
   "cell_type": "markdown",
   "metadata": {},
   "source": [
    "Delete user and group"
   ]
  },
  {
   "cell_type": "code",
   "execution_count": 116,
   "metadata": {},
   "outputs": [
    {
     "data": {
      "text/plain": [
       "<Response [204]>"
      ]
     },
     "execution_count": 116,
     "metadata": {},
     "output_type": "execute_result"
    }
   ],
   "source": [
    "response = requests.delete(\n",
    "    base_url+f\"{prefix}/users\",\n",
    "    params={\"username\": \"new_user\"},\n",
    "    headers={\"Authorization\": f\"Bearer {admin_token}\"},\n",
    ")\n",
    "response"
   ]
  },
  {
   "cell_type": "code",
   "execution_count": 117,
   "metadata": {},
   "outputs": [
    {
     "data": {
      "text/plain": [
       "<Response [204]>"
      ]
     },
     "execution_count": 117,
     "metadata": {},
     "output_type": "execute_result"
    }
   ],
   "source": [
    "response = requests.delete(\n",
    "    base_url+f\"{prefix}/groups\",\n",
    "    params={\"groupname\": \"new_group\"},\n",
    "    headers={\"Authorization\": f\"Bearer {admin_token}\"},\n",
    ")\n",
    "response"
   ]
  },
  {
   "cell_type": "code",
   "execution_count": 118,
   "metadata": {},
   "outputs": [
    {
     "ename": "AssertionError",
     "evalue": "",
     "output_type": "error",
     "traceback": [
      "\u001b[0;31m---------------------------------------------------------------------------\u001b[0m",
      "\u001b[0;31mAssertionError\u001b[0m                            Traceback (most recent call last)",
      "Cell \u001b[0;32mIn[118], line 3\u001b[0m\n\u001b[1;32m      1\u001b[0m headers \u001b[38;5;241m=\u001b[39m {\u001b[38;5;124m\"\u001b[39m\u001b[38;5;124mAuthorization\u001b[39m\u001b[38;5;124m\"\u001b[39m: \u001b[38;5;124mf\u001b[39m\u001b[38;5;124m\"\u001b[39m\u001b[38;5;124mBearer \u001b[39m\u001b[38;5;132;01m{\u001b[39;00mtoken\u001b[38;5;132;01m}\u001b[39;00m\u001b[38;5;124m\"\u001b[39m}\n\u001b[1;32m      2\u001b[0m response \u001b[38;5;241m=\u001b[39m requests\u001b[38;5;241m.\u001b[39mget(\u001b[38;5;124mf\u001b[39m\u001b[38;5;124m\"\u001b[39m\u001b[38;5;132;01m{\u001b[39;00mbase_url\u001b[38;5;132;01m}\u001b[39;00m\u001b[38;5;124m/v3/language\u001b[39m\u001b[38;5;124m\"\u001b[39m, headers\u001b[38;5;241m=\u001b[39mheaders)\n\u001b[0;32m----> 3\u001b[0m \u001b[38;5;28;01massert\u001b[39;00m response\u001b[38;5;241m.\u001b[39mstatus_code \u001b[38;5;241m==\u001b[39m \u001b[38;5;241m200\u001b[39m\n\u001b[1;32m      4\u001b[0m \u001b[38;5;28;01massert\u001b[39;00m response\u001b[38;5;241m.\u001b[39mjson() \u001b[38;5;241m==\u001b[39m [{\u001b[38;5;124m\"\u001b[39m\u001b[38;5;124miso639\u001b[39m\u001b[38;5;124m\"\u001b[39m: \u001b[38;5;124m\"\u001b[39m\u001b[38;5;124meng\u001b[39m\u001b[38;5;124m\"\u001b[39m, \u001b[38;5;124m\"\u001b[39m\u001b[38;5;124mname\u001b[39m\u001b[38;5;124m\"\u001b[39m: \u001b[38;5;124m\"\u001b[39m\u001b[38;5;124menglish\u001b[39m\u001b[38;5;124m\"\u001b[39m}]\n",
      "\u001b[0;31mAssertionError\u001b[0m: "
     ]
    }
   ],
   "source": [
    "headers = {\"Authorization\": f\"Bearer {token}\"}\n",
    "response = requests.get(f\"{base_url}/v3/language\", headers=headers)\n",
    "assert response.status_code == 200\n",
    "assert response.json() == [{\"iso639\": \"eng\", \"name\": \"english\"}]"
   ]
  },
  {
   "cell_type": "code",
   "execution_count": null,
   "metadata": {},
   "outputs": [],
   "source": []
  }
 ],
 "metadata": {
  "kernelspec": {
   "display_name": "venv",
   "language": "python",
   "name": "python3"
  },
  "language_info": {
   "codemirror_mode": {
    "name": "ipython",
    "version": 3
   },
   "file_extension": ".py",
   "mimetype": "text/x-python",
   "name": "python",
   "nbconvert_exporter": "python",
   "pygments_lexer": "ipython3",
   "version": "3.11.0rc1"
  }
 },
 "nbformat": 4,
 "nbformat_minor": 2
}
