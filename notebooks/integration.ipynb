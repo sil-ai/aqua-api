{
 "cells": [
  {
   "cell_type": "code",
   "execution_count": 1,
   "metadata": {},
   "outputs": [],
   "source": [
    "import requests\n",
    "import sys, os\n",
    "from dotenv import load_dotenv\n",
    "current_dir = os.getcwd()\n",
    "parent_dir = os.path.dirname(current_dir)\n",
    "sys.path.append(parent_dir)\n",
    "from security_routes.utilities import hash_password\n",
    "from pathlib import Path"
   ]
  },
  {
   "cell_type": "code",
   "execution_count": 2,
   "metadata": {},
   "outputs": [],
   "source": [
    "base_url = \"https://tmv9bz5v4q.us-east-1.awsapprunner.com/\"\n",
    "prefix = \"latest\""
   ]
  },
  {
   "cell_type": "code",
   "execution_count": 3,
   "metadata": {},
   "outputs": [
    {
     "data": {
      "text/plain": [
       "'$2b$12$NrA6IfML9/NPWNQ529Yr0u8Ts2/gU6dZanF9PwYukRQ/CKdZ8m7Aa'"
      ]
     },
     "execution_count": 3,
     "metadata": {},
     "output_type": "execute_result"
    }
   ],
   "source": [
    "hash_password(\"password\")"
   ]
  },
  {
   "cell_type": "code",
   "execution_count": 4,
   "metadata": {},
   "outputs": [
    {
     "data": {
      "text/plain": [
       "True"
      ]
     },
     "execution_count": 4,
     "metadata": {},
     "output_type": "execute_result"
    }
   ],
   "source": [
    "load_dotenv(\"../.env.production\", override=True)"
   ]
  },
  {
   "cell_type": "code",
   "execution_count": 5,
   "metadata": {},
   "outputs": [
    {
     "data": {
      "text/plain": [
       "True"
      ]
     },
     "execution_count": 5,
     "metadata": {},
     "output_type": "execute_result"
    }
   ],
   "source": [
    "adminpassword = os.getenv(\"ADMIN_PASSWORD\")  \n",
    "adminpassword is not None"
   ]
  },
  {
   "cell_type": "code",
   "execution_count": 6,
   "metadata": {},
   "outputs": [],
   "source": [
    "response = requests.post(\n",
    "    base_url+\"latest/token\", data={\"username\": \"admin\", \"password\": adminpassword}\n",
    ")\n",
    "admin_token = response.json()[\"access_token\"]"
   ]
  },
  {
   "cell_type": "code",
   "execution_count": 23,
   "metadata": {},
   "outputs": [
    {
     "data": {
      "text/plain": [
       "145"
      ]
     },
     "execution_count": 23,
     "metadata": {},
     "output_type": "execute_result"
    }
   ],
   "source": [
    "len(admin_token)"
   ]
  },
  {
   "cell_type": "markdown",
   "metadata": {},
   "source": [
    "Create user and group"
   ]
  },
  {
   "cell_type": "code",
   "execution_count": 8,
   "metadata": {},
   "outputs": [
    {
     "data": {
      "text/plain": [
       "<Response [200]>"
      ]
     },
     "execution_count": 8,
     "metadata": {},
     "output_type": "execute_result"
    }
   ],
   "source": [
    "new_user_data = {\n",
    "    \"username\": \"new_user\",\n",
    "    \"email\": \"new_user@example.com\",\n",
    "    \"password\": \"newpassword\",\n",
    "    \"is_admin\": False,\n",
    "}\n",
    "\n",
    "response = requests.post(\n",
    "    base_url+f\"{prefix}/users\",\n",
    "    params=new_user_data,\n",
    "    headers={\"Authorization\": f\"Bearer {admin_token}\"},\n",
    ")\n",
    "\n",
    "response"
   ]
  },
  {
   "cell_type": "code",
   "execution_count": 9,
   "metadata": {},
   "outputs": [
    {
     "data": {
      "text/plain": [
       "<Response [200]>"
      ]
     },
     "execution_count": 9,
     "metadata": {},
     "output_type": "execute_result"
    }
   ],
   "source": [
    "group_data = {\n",
    "    \"name\": \"new_group\",\n",
    "    \"description\": \"A new group\",\n",
    "}\n",
    "response = requests.post(\n",
    "    base_url+f\"{prefix}/groups\",\n",
    "    params=group_data,\n",
    "    headers={\"Authorization\": f\"Bearer {admin_token}\"},\n",
    ")\n",
    "response"
   ]
  },
  {
   "cell_type": "code",
   "execution_count": 10,
   "metadata": {},
   "outputs": [
    {
     "data": {
      "text/plain": [
       "<Response [201]>"
      ]
     },
     "execution_count": 10,
     "metadata": {},
     "output_type": "execute_result"
    }
   ],
   "source": [
    "link_data = {\n",
    "    \"username\": \"new_user\",\n",
    "    \"groupname\": \"new_group\",\n",
    "}\n",
    "response = requests.post(\n",
    "    base_url+f\"{prefix}/link-user-group\",\n",
    "    params=link_data,\n",
    "    headers={\"Authorization\": f\"Bearer {admin_token}\"},\n",
    ")\n",
    "response"
   ]
  },
  {
   "cell_type": "markdown",
   "metadata": {},
   "source": [
    "Create a revision"
   ]
  },
  {
   "cell_type": "code",
   "execution_count": 11,
   "metadata": {},
   "outputs": [],
   "source": [
    "response = requests.post(\n",
    "    base_url+\"latest/token\", data={\"username\": \"new_user\", \"password\": \"newpassword\"}\n",
    ")\n",
    "token = response.json()[\"access_token\"]"
   ]
  },
  {
   "cell_type": "code",
   "execution_count": 24,
   "metadata": {},
   "outputs": [
    {
     "data": {
      "text/plain": [
       "151"
      ]
     },
     "execution_count": 24,
     "metadata": {},
     "output_type": "execute_result"
    }
   ],
   "source": [
    "len(token)"
   ]
  },
  {
   "cell_type": "code",
   "execution_count": 13,
   "metadata": {},
   "outputs": [
    {
     "data": {
      "text/plain": [
       "{'id': 2,\n",
       " 'name': 'New Version',\n",
       " 'iso_language': 'eng',\n",
       " 'iso_script': 'Latn',\n",
       " 'abbreviation': 'NV',\n",
       " 'rights': 'Some Rights',\n",
       " 'forwardTranslation': None,\n",
       " 'backTranslation': None,\n",
       " 'machineTranslation': False}"
      ]
     },
     "execution_count": 13,
     "metadata": {},
     "output_type": "execute_result"
    }
   ],
   "source": [
    "new_version_data = {\n",
    "    \"name\": \"New Version\",\n",
    "    \"iso_language\": \"eng\",\n",
    "    \"iso_script\": \"Latn\",\n",
    "    \"abbreviation\": \"NV\",\n",
    "    \"rights\": \"Some Rights\",\n",
    "    \"machineTranslation\": False,\n",
    "}\n",
    "response = requests.post(\n",
    "    base_url+f\"{prefix}/version\",\n",
    "    params=new_version_data,\n",
    "    headers={\"Authorization\": f\"Bearer {token}\"},\n",
    ")\n",
    "version_id =response.json()[\"id\"]\n",
    "response.json()"
   ]
  },
  {
   "cell_type": "code",
   "execution_count": 15,
   "metadata": {},
   "outputs": [
    {
     "data": {
      "text/plain": [
       "{'id': 1,\n",
       " 'bible_version_id': 2,\n",
       " 'version_abbreviation': 'NV',\n",
       " 'date': '2024-02-13',\n",
       " 'name': 'Test Revision',\n",
       " 'published': False,\n",
       " 'backTranslation': None,\n",
       " 'machineTranslation': False,\n",
       " 'iso_language': 'eng'}"
      ]
     },
     "execution_count": 15,
     "metadata": {},
     "output_type": "execute_result"
    }
   ],
   "source": [
    "headers = {\"Authorization\": f\"Bearer {token}\"}\n",
    "test_revision = {\n",
    "    \"version_id\": version_id,\n",
    "    \"name\": \"Test Revision\",\n",
    "}\n",
    "test_upload_file = Path(\"../fixtures/uploadtest.txt\")\n",
    "\n",
    "with open(test_upload_file, \"rb\") as file:\n",
    "    files = {\"file\": file}\n",
    "    response = requests.post(\n",
    "    base_url + f\"{prefix}/revision\", params=test_revision, files=files, headers=headers\n",
    "    )\n",
    "revision_id =response.json()[\"id\"]\n",
    "response.json()"
   ]
  },
  {
   "cell_type": "code",
   "execution_count": 16,
   "metadata": {},
   "outputs": [
    {
     "data": {
      "text/plain": [
       "[{'id': 1,\n",
       "  'bible_version_id': 2,\n",
       "  'version_abbreviation': 'NV',\n",
       "  'date': '2024-02-13',\n",
       "  'name': 'Test Revision',\n",
       "  'published': False,\n",
       "  'backTranslation': None,\n",
       "  'machineTranslation': False,\n",
       "  'iso_language': 'eng'}]"
      ]
     },
     "execution_count": 16,
     "metadata": {},
     "output_type": "execute_result"
    }
   ],
   "source": [
    "response = requests.get(\n",
    "    base_url+f\"{prefix}/revision\",\n",
    "    headers={\"Authorization\": f\"Bearer {token}\"},\n",
    ")\n",
    "response.json()"
   ]
  },
  {
   "cell_type": "code",
   "execution_count": 17,
   "metadata": {},
   "outputs": [
    {
     "data": {
      "text/plain": [
       "[{'id': 2,\n",
       "  'name': 'New Version',\n",
       "  'iso_language': 'eng',\n",
       "  'iso_script': 'Latn',\n",
       "  'abbreviation': 'NV',\n",
       "  'rights': 'Some Rights',\n",
       "  'forwardTranslation': None,\n",
       "  'backTranslation': None,\n",
       "  'machineTranslation': False}]"
      ]
     },
     "execution_count": 17,
     "metadata": {},
     "output_type": "execute_result"
    }
   ],
   "source": [
    "response = requests.get(\n",
    "    base_url+f\"{prefix}/version\",\n",
    "    headers={\"Authorization\": f\"Bearer {token}\"},\n",
    ")\n",
    "response.json()"
   ]
  },
  {
   "cell_type": "markdown",
   "metadata": {},
   "source": [
    "Delete version and revision"
   ]
  },
  {
   "cell_type": "code",
   "execution_count": 18,
   "metadata": {},
   "outputs": [
    {
     "data": {
      "text/plain": [
       "{'detail': 'Revision 1 deleted successfully.'}"
      ]
     },
     "execution_count": 18,
     "metadata": {},
     "output_type": "execute_result"
    }
   ],
   "source": [
    "response = requests.delete(\n",
    "    base_url+f\"{prefix}/revision\",\n",
    "    params={\"id\": revision_id},\n",
    "    headers={\"Authorization\": f\"Bearer {token}\"},\n",
    ")\n",
    "response.json()"
   ]
  },
  {
   "cell_type": "code",
   "execution_count": 19,
   "metadata": {},
   "outputs": [
    {
     "data": {
      "text/plain": [
       "{'detail': 'Version New Version successfully deleted.'}"
      ]
     },
     "execution_count": 19,
     "metadata": {},
     "output_type": "execute_result"
    }
   ],
   "source": [
    "response = requests.delete(\n",
    "    base_url+f\"{prefix}/version\",\n",
    "    params={\"id\": version_id},\n",
    "    headers={\"Authorization\": f\"Bearer {token}\"},\n",
    ")\n",
    "response.json()"
   ]
  },
  {
   "cell_type": "markdown",
   "metadata": {},
   "source": [
    "Delete user and group"
   ]
  },
  {
   "cell_type": "code",
   "execution_count": 20,
   "metadata": {},
   "outputs": [
    {
     "data": {
      "text/plain": [
       "<Response [204]>"
      ]
     },
     "execution_count": 20,
     "metadata": {},
     "output_type": "execute_result"
    }
   ],
   "source": [
    "response = requests.delete(\n",
    "    base_url+f\"{prefix}/users\",\n",
    "    params={\"username\": \"new_user\"},\n",
    "    headers={\"Authorization\": f\"Bearer {admin_token}\"},\n",
    ")\n",
    "response"
   ]
  },
  {
   "cell_type": "code",
   "execution_count": 21,
   "metadata": {},
   "outputs": [
    {
     "data": {
      "text/plain": [
       "<Response [204]>"
      ]
     },
     "execution_count": 21,
     "metadata": {},
     "output_type": "execute_result"
    }
   ],
   "source": [
    "response = requests.delete(\n",
    "    base_url+f\"{prefix}/groups\",\n",
    "    params={\"groupname\": \"new_group\"},\n",
    "    headers={\"Authorization\": f\"Bearer {admin_token}\"},\n",
    ")\n",
    "response"
   ]
  },
  {
   "cell_type": "code",
   "execution_count": null,
   "metadata": {},
   "outputs": [],
   "source": [
    "headers = {\"Authorization\": f\"Bearer {token}\"}\n",
    "response = requests.get(f\"{base_url}/v3/language\", headers=headers)\n",
    "assert response.status_code == 200\n",
    "assert response.json() == [{\"iso639\": \"eng\", \"name\": \"english\"}]"
   ]
  }
 ],
 "metadata": {
  "kernelspec": {
   "display_name": "venv",
   "language": "python",
   "name": "python3"
  },
  "language_info": {
   "codemirror_mode": {
    "name": "ipython",
    "version": 3
   },
   "file_extension": ".py",
   "mimetype": "text/x-python",
   "name": "python",
   "nbconvert_exporter": "python",
   "pygments_lexer": "ipython3",
   "version": "3.11.0"
  }
 },
 "nbformat": 4,
 "nbformat_minor": 2
}
